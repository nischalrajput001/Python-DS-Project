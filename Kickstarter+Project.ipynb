{
 "cells": [
  {
   "cell_type": "code",
   "execution_count": 11,
   "metadata": {
    "collapsed": true
   },
   "outputs": [],
   "source": [
    "import numpy as np \n",
    "import pandas as pd\n",
    "import seaborn as sns\n",
    "import matplotlib.pyplot as plt"
   ]
  },
  {
   "cell_type": "code",
   "execution_count": 12,
   "metadata": {
    "collapsed": true
   },
   "outputs": [],
   "source": [
    "df_kick = pd.read_csv('C:/Users/Nischal Rajput/ks-projects-201801.csv')"
   ]
  },
  {
   "cell_type": "code",
   "execution_count": 13,
   "metadata": {},
   "outputs": [
    {
     "name": "stdout",
     "output_type": "stream",
     "text": [
      "(378661, 15)\n"
     ]
    }
   ],
   "source": [
    "print(df_kick.shape)"
   ]
  },
  {
   "cell_type": "code",
   "execution_count": 14,
   "metadata": {},
   "outputs": [
    {
     "name": "stdout",
     "output_type": "stream",
     "text": [
      "<class 'pandas.core.frame.DataFrame'>\n",
      "RangeIndex: 378661 entries, 0 to 378660\n",
      "Data columns (total 15 columns):\n",
      "ID                  378661 non-null int64\n",
      "name                378657 non-null object\n",
      "category            378661 non-null object\n",
      "main_category       378661 non-null object\n",
      "currency            378661 non-null object\n",
      "deadline            378661 non-null object\n",
      "goal                378661 non-null float64\n",
      "launched            378661 non-null object\n",
      "pledged             378661 non-null float64\n",
      "state               378661 non-null object\n",
      "backers             378661 non-null int64\n",
      "country             378661 non-null object\n",
      "usd pledged         374864 non-null float64\n",
      "usd_pledged_real    378661 non-null float64\n",
      "usd_goal_real       378661 non-null float64\n",
      "dtypes: float64(5), int64(2), object(8)\n",
      "memory usage: 43.3+ MB\n",
      "None\n"
     ]
    },
    {
     "data": {
      "text/html": [
       "<div>\n",
       "<style>\n",
       "    .dataframe thead tr:only-child th {\n",
       "        text-align: right;\n",
       "    }\n",
       "\n",
       "    .dataframe thead th {\n",
       "        text-align: left;\n",
       "    }\n",
       "\n",
       "    .dataframe tbody tr th {\n",
       "        vertical-align: top;\n",
       "    }\n",
       "</style>\n",
       "<table border=\"1\" class=\"dataframe\">\n",
       "  <thead>\n",
       "    <tr style=\"text-align: right;\">\n",
       "      <th></th>\n",
       "      <th>ID</th>\n",
       "      <th>name</th>\n",
       "      <th>category</th>\n",
       "      <th>main_category</th>\n",
       "      <th>currency</th>\n",
       "      <th>deadline</th>\n",
       "      <th>goal</th>\n",
       "      <th>launched</th>\n",
       "      <th>pledged</th>\n",
       "      <th>state</th>\n",
       "      <th>backers</th>\n",
       "      <th>country</th>\n",
       "      <th>usd pledged</th>\n",
       "      <th>usd_pledged_real</th>\n",
       "      <th>usd_goal_real</th>\n",
       "    </tr>\n",
       "  </thead>\n",
       "  <tbody>\n",
       "    <tr>\n",
       "      <th>0</th>\n",
       "      <td>1000002330</td>\n",
       "      <td>The Songs of Adelaide &amp; Abullah</td>\n",
       "      <td>Poetry</td>\n",
       "      <td>Publishing</td>\n",
       "      <td>GBP</td>\n",
       "      <td>2015-10-09</td>\n",
       "      <td>1000.0</td>\n",
       "      <td>2015-08-11 12:12:28</td>\n",
       "      <td>0.0</td>\n",
       "      <td>failed</td>\n",
       "      <td>0</td>\n",
       "      <td>GB</td>\n",
       "      <td>0.0</td>\n",
       "      <td>0.0</td>\n",
       "      <td>1533.95</td>\n",
       "    </tr>\n",
       "    <tr>\n",
       "      <th>1</th>\n",
       "      <td>1000003930</td>\n",
       "      <td>Greeting From Earth: ZGAC Arts Capsule For ET</td>\n",
       "      <td>Narrative Film</td>\n",
       "      <td>Film &amp; Video</td>\n",
       "      <td>USD</td>\n",
       "      <td>2017-11-01</td>\n",
       "      <td>30000.0</td>\n",
       "      <td>2017-09-02 04:43:57</td>\n",
       "      <td>2421.0</td>\n",
       "      <td>failed</td>\n",
       "      <td>15</td>\n",
       "      <td>US</td>\n",
       "      <td>100.0</td>\n",
       "      <td>2421.0</td>\n",
       "      <td>30000.00</td>\n",
       "    </tr>\n",
       "    <tr>\n",
       "      <th>2</th>\n",
       "      <td>1000004038</td>\n",
       "      <td>Where is Hank?</td>\n",
       "      <td>Narrative Film</td>\n",
       "      <td>Film &amp; Video</td>\n",
       "      <td>USD</td>\n",
       "      <td>2013-02-26</td>\n",
       "      <td>45000.0</td>\n",
       "      <td>2013-01-12 00:20:50</td>\n",
       "      <td>220.0</td>\n",
       "      <td>failed</td>\n",
       "      <td>3</td>\n",
       "      <td>US</td>\n",
       "      <td>220.0</td>\n",
       "      <td>220.0</td>\n",
       "      <td>45000.00</td>\n",
       "    </tr>\n",
       "    <tr>\n",
       "      <th>3</th>\n",
       "      <td>1000007540</td>\n",
       "      <td>ToshiCapital Rekordz Needs Help to Complete Album</td>\n",
       "      <td>Music</td>\n",
       "      <td>Music</td>\n",
       "      <td>USD</td>\n",
       "      <td>2012-04-16</td>\n",
       "      <td>5000.0</td>\n",
       "      <td>2012-03-17 03:24:11</td>\n",
       "      <td>1.0</td>\n",
       "      <td>failed</td>\n",
       "      <td>1</td>\n",
       "      <td>US</td>\n",
       "      <td>1.0</td>\n",
       "      <td>1.0</td>\n",
       "      <td>5000.00</td>\n",
       "    </tr>\n",
       "    <tr>\n",
       "      <th>4</th>\n",
       "      <td>1000011046</td>\n",
       "      <td>Community Film Project: The Art of Neighborhoo...</td>\n",
       "      <td>Film &amp; Video</td>\n",
       "      <td>Film &amp; Video</td>\n",
       "      <td>USD</td>\n",
       "      <td>2015-08-29</td>\n",
       "      <td>19500.0</td>\n",
       "      <td>2015-07-04 08:35:03</td>\n",
       "      <td>1283.0</td>\n",
       "      <td>canceled</td>\n",
       "      <td>14</td>\n",
       "      <td>US</td>\n",
       "      <td>1283.0</td>\n",
       "      <td>1283.0</td>\n",
       "      <td>19500.00</td>\n",
       "    </tr>\n",
       "  </tbody>\n",
       "</table>\n",
       "</div>"
      ],
      "text/plain": [
       "           ID                                               name  \\\n",
       "0  1000002330                    The Songs of Adelaide & Abullah   \n",
       "1  1000003930      Greeting From Earth: ZGAC Arts Capsule For ET   \n",
       "2  1000004038                                     Where is Hank?   \n",
       "3  1000007540  ToshiCapital Rekordz Needs Help to Complete Album   \n",
       "4  1000011046  Community Film Project: The Art of Neighborhoo...   \n",
       "\n",
       "         category main_category currency    deadline     goal  \\\n",
       "0          Poetry    Publishing      GBP  2015-10-09   1000.0   \n",
       "1  Narrative Film  Film & Video      USD  2017-11-01  30000.0   \n",
       "2  Narrative Film  Film & Video      USD  2013-02-26  45000.0   \n",
       "3           Music         Music      USD  2012-04-16   5000.0   \n",
       "4    Film & Video  Film & Video      USD  2015-08-29  19500.0   \n",
       "\n",
       "              launched  pledged     state  backers country  usd pledged  \\\n",
       "0  2015-08-11 12:12:28      0.0    failed        0      GB          0.0   \n",
       "1  2017-09-02 04:43:57   2421.0    failed       15      US        100.0   \n",
       "2  2013-01-12 00:20:50    220.0    failed        3      US        220.0   \n",
       "3  2012-03-17 03:24:11      1.0    failed        1      US          1.0   \n",
       "4  2015-07-04 08:35:03   1283.0  canceled       14      US       1283.0   \n",
       "\n",
       "   usd_pledged_real  usd_goal_real  \n",
       "0               0.0        1533.95  \n",
       "1            2421.0       30000.00  \n",
       "2             220.0       45000.00  \n",
       "3               1.0        5000.00  \n",
       "4            1283.0       19500.00  "
      ]
     },
     "execution_count": 14,
     "metadata": {},
     "output_type": "execute_result"
    }
   ],
   "source": [
    "\n",
    "print(df_kick.info())\n",
    "df_kick.head()"
   ]
  },
  {
   "cell_type": "code",
   "execution_count": 83,
   "metadata": {},
   "outputs": [
    {
     "name": "stdout",
     "output_type": "stream",
     "text": [
      "Min Goal and Pledged values\n",
      "goal       0.01\n",
      "pledged    0.00\n",
      "dtype: float64\n",
      "\n",
      "Mean Goal and Pledged values\n",
      "goal       49080.79\n",
      "pledged     9682.98\n",
      "dtype: float64\n",
      "\n",
      "Median Goal and Pledged values\n",
      "goal       5200.0\n",
      "pledged     620.0\n",
      "dtype: float64\n",
      "\n",
      "Max Goal and Pledged values\n",
      "goal       100000000.0\n",
      "pledged     20338986.27\n",
      "dtype: float64\n",
      "\n",
      "Std Goal and Pledged values\n",
      "goal       1183391.26\n",
      "pledged      95636.01\n",
      "dtype: float64\n"
     ]
    }
   ],
   "source": [
    "print(\"Min Goal and Pledged values\")\n",
    "print(df_kick[[\"goal\", \"pledged\"]].min())\n",
    "print(\"\")\n",
    "print(\"Mean Goal and Pledged values\")\n",
    "print(round(df_kick[[\"goal\", \"pledged\"]].mean(),2))\n",
    "print(\"\")\n",
    "print(\"Median Goal and Pledged values\")\n",
    "print(df_kick[[\"goal\", \"pledged\"]].median())\n",
    "print(\"\")\n",
    "print(\"Max Goal and Pledged values\")\n",
    "print(\"goal       100000000.0\") #If i put the both together give me back log values, \n",
    "print(\"pledged     20338986.27\") # so i decide to just show this values\n",
    "print(\"dtype: float64\")\n",
    "print(\"\")\n",
    "print(\"Std Goal and Pledged values\")\n",
    "print(round(df_kick[[\"goal\", \"pledged\"]].std(),2))"
   ]
  },
  {
   "cell_type": "code",
   "execution_count": 84,
   "metadata": {
    "collapsed": true
   },
   "outputs": [],
   "source": [
    "main_cats = df_kick[\"main_category\"].value_counts()\n"
   ]
  },
  {
   "cell_type": "code",
   "execution_count": 85,
   "metadata": {},
   "outputs": [
    {
     "name": "stdout",
     "output_type": "stream",
     "text": [
      "Film & Video    32904\n",
      "Publishing      23145\n",
      "Music           21752\n",
      "Technology      20616\n",
      "Games           16003\n",
      "Food            15969\n",
      "Design          14814\n",
      "Fashion         14182\n",
      "Art             14131\n",
      "Photography      6384\n",
      "Crafts           5703\n",
      "Comics           4036\n",
      "Theater          3708\n",
      "Journalism       3137\n",
      "Dance            1235\n",
      "Name: main_category, dtype: int64\n"
     ]
    }
   ],
   "source": [
    "main_cats_failed = df_kick[df_kick[\"state\"] == \"failed\"][\"main_category\"].value_counts()\n",
    "print(main_cats_failed)"
   ]
  },
  {
   "cell_type": "code",
   "execution_count": 86,
   "metadata": {},
   "outputs": [
    {
     "data": {
      "text/plain": [
       "Product Design    22314\n",
       "Documentary       16139\n",
       "Music             15727\n",
       "Tabletop Games    14180\n",
       "Shorts            12357\n",
       "Video Games       11830\n",
       "Food              11493\n",
       "Film & Video      10108\n",
       "Fiction            9169\n",
       "Fashion            8554\n",
       "Name: category, dtype: int64"
      ]
     },
     "execution_count": 86,
     "metadata": {},
     "output_type": "execute_result"
    }
   ],
   "source": [
    "df_kick[\"category\"].value_counts()[:10]"
   ]
  },
  {
   "cell_type": "code",
   "execution_count": 19,
   "metadata": {},
   "outputs": [
    {
     "data": {
      "text/plain": [
       "<matplotlib.axes._subplots.AxesSubplot at 0x1713b148d30>"
      ]
     },
     "execution_count": 19,
     "metadata": {},
     "output_type": "execute_result"
    },
    {
     "data": {
      "image/png": "[encoded data removed]",
      "text/plain": [
       "<matplotlib.figure.Figure at 0x1713b50a5f8>"
      ]
     },
     "metadata": {},
     "output_type": "display_data"
    }
   ],
   "source": [
    "%matplotlib inline\n",
    "df_kick['category'].value_counts()[:20].plot(kind='barh')"
   ]
  },
  {
   "cell_type": "code",
   "execution_count": 69,
   "metadata": {},
   "outputs": [
    {
     "ename": "NameError",
     "evalue": "name 'ax1' is not defined",
     "output_type": "error",
     "traceback": [
      "\u001b[1;31m---------------------------------------------------------------------------\u001b[0m",
      "\u001b[1;31mNameError\u001b[0m                                 Traceback (most recent call last)",
      "\u001b[1;32m<ipython-input-69-2505a4967554>\u001b[0m in \u001b[0;36m<module>\u001b[1;34m()\u001b[0m\n\u001b[0;32m     19\u001b[0m \u001b[0max2\u001b[0m \u001b[1;33m=\u001b[0m \u001b[0mplt\u001b[0m\u001b[1;33m.\u001b[0m\u001b[0msubplot\u001b[0m\u001b[1;33m(\u001b[0m\u001b[1;36m212\u001b[0m\u001b[1;33m)\u001b[0m\u001b[1;33m\u001b[0m\u001b[0m\n\u001b[0;32m     20\u001b[0m \u001b[0max2\u001b[0m \u001b[1;33m=\u001b[0m \u001b[0msns\u001b[0m\u001b[1;33m.\u001b[0m\u001b[0mcountplot\u001b[0m\u001b[1;33m(\u001b[0m\u001b[0mx\u001b[0m\u001b[1;33m=\u001b[0m\u001b[1;34m\"main_category\"\u001b[0m\u001b[1;33m,\u001b[0m \u001b[0mdata\u001b[0m\u001b[1;33m=\u001b[0m\u001b[0mdf_kick\u001b[0m\u001b[1;33m)\u001b[0m\u001b[1;33m\u001b[0m\u001b[0m\n\u001b[1;32m---> 21\u001b[1;33m \u001b[0max2\u001b[0m\u001b[1;33m.\u001b[0m\u001b[0mset_xticklabels\u001b[0m\u001b[1;33m(\u001b[0m\u001b[0max1\u001b[0m\u001b[1;33m.\u001b[0m\u001b[0mget_xticklabels\u001b[0m\u001b[1;33m(\u001b[0m\u001b[1;33m)\u001b[0m\u001b[1;33m,\u001b[0m\u001b[0mrotation\u001b[0m\u001b[1;33m=\u001b[0m\u001b[1;36m90\u001b[0m\u001b[1;33m)\u001b[0m\u001b[1;33m\u001b[0m\u001b[0m\n\u001b[0m\u001b[0;32m     22\u001b[0m \u001b[0max2\u001b[0m\u001b[1;33m.\u001b[0m\u001b[0mset_title\u001b[0m\u001b[1;33m(\u001b[0m\u001b[1;34m\"General Main Category's\"\u001b[0m\u001b[1;33m,\u001b[0m \u001b[0mfontsize\u001b[0m\u001b[1;33m=\u001b[0m\u001b[1;36m15\u001b[0m\u001b[1;33m)\u001b[0m\u001b[1;33m\u001b[0m\u001b[0m\n\u001b[0;32m     23\u001b[0m \u001b[0max2\u001b[0m\u001b[1;33m.\u001b[0m\u001b[0mset_xlabel\u001b[0m\u001b[1;33m(\u001b[0m\u001b[1;34m\"Main Category\"\u001b[0m\u001b[1;33m,\u001b[0m \u001b[0mfontsize\u001b[0m\u001b[1;33m=\u001b[0m\u001b[1;36m12\u001b[0m\u001b[1;33m)\u001b[0m\u001b[1;33m\u001b[0m\u001b[0m\n",
      "\u001b[1;31mNameError\u001b[0m: name 'ax1' is not defined"
     ]
    },
    {
     "data": {
      "image/png": "[encoded data removed]",
      "text/plain": [
       "<matplotlib.figure.Figure at 0x17128a58e80>"
      ]
     },
     "metadata": {},
     "output_type": "display_data"
    }
   ],
   "source": [
    "categorys_failed = df_kick[df_kick[\"state\"] == \"failed\"][\"category\"].value_counts()[:25]\n",
    "categorys_sucessful = df_kick[df_kick[\"state\"] == \"successful\"][\"category\"].value_counts()[:25]\n",
    "\n",
    "fig, ax = plt.subplots(ncols=2, figsize=(15,20))\n",
    "plt.subplots_adjust(wspace = 0.35, top = 0.5)\n",
    "\n",
    "g1 = plt.subplot(222)\n",
    "g1 = sns.barplot(x= categorys_failed.values, y=categorys_failed.index, orient='h')\n",
    "g1.set_title(\"Failed Category's\", fontsize=15)\n",
    "g1.set_xlabel(\"Count Category\", fontsize=12)\n",
    "g1.set_ylabel(\"Category's Failed\", fontsize=12)\n",
    "\n",
    "g2 = plt.subplot(221)\n",
    "g2 = sns.barplot(x= categorys_sucessful.values, y=categorys_sucessful.index, orient='h')\n",
    "g2.set_title(\"Sucessful Category's\", fontsize=15)\n",
    "g2.set_xlabel(\"Count Category\", fontsize=12)\n",
    "g2.set_ylabel(\"Category's Successful\", fontsize=12)\n",
    "\n",
    "ax2 = plt.subplot(212)\n",
    "ax2 = sns.countplot(x=\"main_category\", data=df_kick)\n",
    "ax2.set_xticklabels(ax1.get_xticklabels(),rotation=90)\n",
    "ax2.set_title(\"General Main Category's\", fontsize=15)\n",
    "ax2.set_xlabel(\"Main Category\", fontsize=12)\n",
    "ax2.set_ylabel(\"Count\", fontsize=12)\n",
    "\n",
    "plt.show()"
   ]
  },
  {
   "cell_type": "code",
   "execution_count": null,
   "metadata": {
    "collapsed": true
   },
   "outputs": [],
   "source": []
  },
  {
   "cell_type": "code",
   "execution_count": null,
   "metadata": {
    "collapsed": true
   },
   "outputs": [],
   "source": [
    "# goals and pledges \n",
    "is_USA = df_kick['currency'] == 'USD'\n",
    "was_successful = df_kick['state'] == 'successful'\n",
    "was_failed = df_kick['state'] == 'failed'\n",
    "df4 = df_kick[['main_category', 'usd pledged', 'usd_pledged_real', 'usd_goal_real']]\n",
    "\n"
   ]
  },
  {
   "cell_type": "code",
   "execution_count": null,
   "metadata": {},
   "outputs": [],
   "source": [
    "print(df4[is_USA & was_successful].groupby('main_category').median())"
   ]
  },
  {
   "cell_type": "code",
   "execution_count": null,
   "metadata": {},
   "outputs": [],
   "source": [
    "print(df4[is_USA & was_failed].groupby('main_category').median())"
   ]
  },
  {
   "cell_type": "code",
   "execution_count": null,
   "metadata": {
    "collapsed": true
   },
   "outputs": [],
   "source": [
    "x= df_kick.iloc[:,0:15]\n",
    "x.head(n=2)\n",
    "Y= df_kick.loc[:,'usd_pledged_real']"
   ]
  },
  {
   "cell_type": "code",
   "execution_count": null,
   "metadata": {},
   "outputs": [],
   "source": [
    "from sklearn.model_selection import train_test_split\n",
    "X_train, X_test, y_train, y_test = train_test_split( x, Y, test_size = 0.3, random_state = 100)"
   ]
  },
  {
   "cell_type": "code",
   "execution_count": null,
   "metadata": {},
   "outputs": [],
   "source": [
    "def num_missing(x):\n",
    "  return sum(x.isnull())\n",
    "\n",
    "\n",
    "print(df_kick.apply(num_missing, axis=0))"
   ]
  },
  {
   "cell_type": "code",
   "execution_count": 71,
   "metadata": {},
   "outputs": [
    {
     "name": "stdout",
     "output_type": "stream",
     "text": [
      "Missing values per column:\n",
      "ID                     0\n",
      "name                   4\n",
      "category               0\n",
      "main_category          0\n",
      "currency               0\n",
      "deadline               0\n",
      "goal                   0\n",
      "launched               0\n",
      "pledged                0\n",
      "state                  0\n",
      "backers                0\n",
      "country                0\n",
      "usd pledged         3797\n",
      "usd_pledged_real       0\n",
      "usd_goal_real          0\n",
      "laun_month_year        0\n",
      "laun_year              0\n",
      "laun_hour              0\n",
      "dead_month_year        0\n",
      "dead_year              0\n",
      "time_campaign          0\n",
      "dtype: int64\n",
      "                ID                                               name  \\\n",
      "0       1000002330                    The Songs of Adelaide & Abullah   \n",
      "1       1000003930      Greeting From Earth: ZGAC Arts Capsule For ET   \n",
      "2       1000004038                                     Where is Hank?   \n",
      "3       1000007540  ToshiCapital Rekordz Needs Help to Complete Album   \n",
      "4       1000011046  Community Film Project: The Art of Neighborhoo...   \n",
      "5       1000014025                               Monarch Espresso Bar   \n",
      "6       1000023410  Support Solar Roasted Coffee & Green Energy!  ...   \n",
      "7       1000030581  Chaser Strips. Our Strips make Shots their B*tch!   \n",
      "8       1000034518  SPIN - Premium Retractable In-Ear Headphones w...   \n",
      "9        100004195  STUDIO IN THE SKY - A Documentary Feature Film...   \n",
      "10       100004721                                Of Jesus and Madmen   \n",
      "11       100005484                                   Lisa Lim New CD!   \n",
      "12      1000055792                                 The Cottage Market   \n",
      "13      1000056157  G-Spot Place for Gamers to connect with eachot...   \n",
      "14      1000057089  Tombstone: Old West tabletop game and miniatur...   \n",
      "15      1000064368                                     Survival Rings   \n",
      "16      1000064918                                          The Beard   \n",
      "17      1000068480                   Notes From London: Above & Below   \n",
      "18      1000070642                Mike Corey's Darkness & Light Album   \n",
      "19      1000071625                                           Boco Tea   \n",
      "20      1000072011              CMUK. Shoes: Take on Life Feet First.   \n",
      "21      1000081649                   MikeyJ clothing brand fundraiser   \n",
      "22      1000082254                     Alice in Wonderland in G Minor   \n",
      "23      1000087442  Mountain brew: A quest for alcohol sustainability   \n",
      "24      1000091520                        The Book Zoo - A Mini-Comic   \n",
      "25      1000102741  Matt Cavenaugh & Jenny Powers make their 1st a...   \n",
      "26      1000103948                               Superhero Teddy Bear   \n",
      "27      1000104688                                Permaculture Skills   \n",
      "28      1000104953  Rebel Army Origins: The Heroic Story Of Major ...   \n",
      "29       100011318                      My Moon - Animated Short Film   \n",
      "...            ...                                                ...   \n",
      "378631   999832803  MONSTROCARDS- A Creative Drawing Game of Horri...   \n",
      "378632    99984851                                           \"Loreto\"   \n",
      "378633   999865831  STATE OF G - Men's Blazer Jacket & Women's Car...   \n",
      "378634   999867839                                      Transcaucasia   \n",
      "378635    99987261  You're Not Cis, You Just Think You Are: My Enb...   \n",
      "378636   999877902                      Little Saturday's Debut Album   \n",
      "378637   999878813                           Ways to Look at the Moon   \n",
      "378638   999880710                                Terminal Uniqueness   \n",
      "378639   999884445  Superette Tea - Boldly Caffeinated Loose Leaf Tea   \n",
      "378640   999893629                          Ciridian Helix (Canceled)   \n",
      "378641    99991751   Here is the oasis for the youngest in the world.   \n",
      "378642   999929142  ÉPOUVANTAILS : 28mm Figurines de jeux pour KIN...   \n",
      "378643   999931480                     Google Glass Shield (Canceled)   \n",
      "378644   999934908                               The Manual Bar Blade   \n",
      "378645   999941823        The Chronicles of Erinoth - A Graphic Novel   \n",
      "378646   999943841                                The Dog Coffee Book   \n",
      "378647   999950812                              The Cease is Increase   \n",
      "378648   999955533        Cards and Chit Network Season 2! (Canceled)   \n",
      "378649   999963618      Colorado International Activism Film Festival   \n",
      "378650    99996661                         Date Seat - Boston iOS App   \n",
      "378651   999969812                                       AT THE BEACH   \n",
      "378652   999971898                        Beach Wrestling Documentary   \n",
      "378653   999972264                                            Islanda   \n",
      "378654   999975836              Homemade fresh dog food, Cleveland OH   \n",
      "378655   999976312                         Angela's Poetry (Canceled)   \n",
      "378656   999976400  ChknTruk Nationwide Charity Drive 2014 (Canceled)   \n",
      "378657   999977640                                          The Tribe   \n",
      "378658   999986353  Walls of Remedy- New lesbian Romantic Comedy f...   \n",
      "378659   999987933                           BioDefense Education Kit   \n",
      "378660   999988282                  Nou Renmen Ayiti!  We Love Haiti!   \n",
      "\n",
      "                category main_category currency   deadline      goal  \\\n",
      "0                 Poetry    Publishing      GBP 2015-10-09    1000.0   \n",
      "1         Narrative Film  Film & Video      USD 2017-11-01   30000.0   \n",
      "2         Narrative Film  Film & Video      USD 2013-02-26   45000.0   \n",
      "3                  Music         Music      USD 2012-04-16    5000.0   \n",
      "4           Film & Video  Film & Video      USD 2015-08-29   19500.0   \n",
      "5            Restaurants          Food      USD 2016-04-01   50000.0   \n",
      "6                   Food          Food      USD 2014-12-21    1000.0   \n",
      "7                 Drinks          Food      USD 2016-03-17   25000.0   \n",
      "8         Product Design        Design      USD 2014-05-29  125000.0   \n",
      "9            Documentary  Film & Video      USD 2014-08-10   65000.0   \n",
      "10            Nonfiction    Publishing      CAD 2013-10-09    2500.0   \n",
      "11            Indie Rock         Music      USD 2013-04-08   12500.0   \n",
      "12                Crafts        Crafts      USD 2014-10-02    5000.0   \n",
      "13                 Games         Games      USD 2016-03-25  200000.0   \n",
      "14        Tabletop Games         Games      GBP 2017-05-03    5000.0   \n",
      "15                Design        Design      USD 2015-02-28    2500.0   \n",
      "16           Comic Books        Comics      USD 2014-11-08    1500.0   \n",
      "17             Art Books    Publishing      USD 2015-05-10    3000.0   \n",
      "18                 Music         Music      USD 2012-08-17     250.0   \n",
      "19                  Food          Food      USD 2012-06-02    5000.0   \n",
      "20               Fashion       Fashion      USD 2013-12-30   20000.0   \n",
      "21         Childrenswear       Fashion      AUD 2017-09-07    2500.0   \n",
      "22               Theater       Theater      USD 2014-06-15    3500.0   \n",
      "23                Drinks          Food      NOK 2015-02-25     500.0   \n",
      "24                Comics        Comics      USD 2014-11-12     175.0   \n",
      "25                 Music         Music      USD 2011-01-06   10000.0   \n",
      "26                   DIY        Crafts      GBP 2016-01-05   12000.0   \n",
      "27             Webseries  Film & Video      CAD 2014-12-14   17757.0   \n",
      "28                Comics        Comics      GBP 2016-01-28     100.0   \n",
      "29             Animation  Film & Video      USD 2017-05-03   50000.0   \n",
      "...                  ...           ...      ...        ...       ...   \n",
      "378631     Playing Cards         Games      USD 2014-10-03   10000.0   \n",
      "378632            Comedy  Film & Video      USD 2014-06-05   12000.0   \n",
      "378633           Apparel       Fashion      USD 2014-12-13   25000.0   \n",
      "378634       Photography   Photography      USD 2011-01-08    4000.0   \n",
      "378635        Nonfiction    Publishing      USD 2015-09-24     800.0   \n",
      "378636    Country & Folk         Music      CAD 2014-12-17    5000.0   \n",
      "378637            Shorts  Film & Video      USD 2017-10-13   10000.0   \n",
      "378638        Nonfiction    Publishing      USD 2014-08-15    5000.0   \n",
      "378639            Drinks          Food      USD 2015-12-03    5000.0   \n",
      "378640           Fiction    Publishing      USD 2014-09-11    1000.0   \n",
      "378641    Product Design        Design      CHF 2015-09-04   80000.0   \n",
      "378642    Tabletop Games         Games      EUR 2017-10-31    1000.0   \n",
      "378643       3D Printing    Technology      USD 2014-05-26    6500.0   \n",
      "378644    Product Design        Design      USD 2015-12-15    3500.0   \n",
      "378645            Comics        Comics      GBP 2013-10-10   16000.0   \n",
      "378646  Children's Books    Publishing      USD 2013-11-30     950.0   \n",
      "378647        Nonfiction    Publishing      USD 2012-09-14    4999.0   \n",
      "378648    Tabletop Games         Games      USD 2016-02-23     500.0   \n",
      "378649    Narrative Film  Film & Video      USD 2017-04-09     500.0   \n",
      "378650              Apps    Technology      USD 2016-09-05    6000.0   \n",
      "378651   Classical Music         Music      CAD 2014-03-22    5000.0   \n",
      "378652       Documentary  Film & Video      NOK 2015-04-28   20000.0   \n",
      "378653       Documentary  Film & Video      USD 2012-03-16    1700.0   \n",
      "378654       Small Batch          Food      USD 2017-04-19    6500.0   \n",
      "378655            Poetry    Publishing      CAD 2014-09-20    5500.0   \n",
      "378656       Documentary  Film & Video      USD 2014-10-17   50000.0   \n",
      "378657    Narrative Film  Film & Video      USD 2011-07-19    1500.0   \n",
      "378658    Narrative Film  Film & Video      USD 2010-08-16   15000.0   \n",
      "378659        Technology    Technology      USD 2016-02-13   15000.0   \n",
      "378660   Performance Art           Art      USD 2011-08-16    2000.0   \n",
      "\n",
      "                  launched   pledged       state      ...       country  \\\n",
      "0      2015-08-11 12:12:28      0.00      failed      ...            GB   \n",
      "1      2017-09-02 04:43:57   2421.00      failed      ...            US   \n",
      "2      2013-01-12 00:20:50    220.00      failed      ...            US   \n",
      "3      2012-03-17 03:24:11      1.00      failed      ...            US   \n",
      "4      2015-07-04 08:35:03   1283.00    canceled      ...            US   \n",
      "5      2016-02-26 13:38:27  52375.00  successful      ...            US   \n",
      "6      2014-12-01 18:30:44   1205.00  successful      ...            US   \n",
      "7      2016-02-01 20:05:12    453.00      failed      ...            US   \n",
      "8      2014-04-24 18:14:43   8233.00    canceled      ...            US   \n",
      "9      2014-07-11 21:55:48   6240.57    canceled      ...            US   \n",
      "10     2013-09-09 18:19:37      0.00      failed      ...            CA   \n",
      "11     2013-03-09 06:42:58  12700.00  successful      ...            US   \n",
      "12     2014-09-02 17:11:50      0.00      failed      ...            US   \n",
      "13     2016-02-09 23:01:12      0.00      failed      ...            US   \n",
      "14     2017-04-05 19:44:18  94175.00  successful      ...            GB   \n",
      "15     2015-01-29 02:10:53    664.00      failed      ...            US   \n",
      "16     2014-10-09 22:27:52    395.00      failed      ...            US   \n",
      "17     2015-04-10 21:20:54    789.00      failed      ...            US   \n",
      "18     2012-08-02 14:11:32    250.00  successful      ...            US   \n",
      "19     2012-05-03 17:24:32   1781.00      failed      ...            US   \n",
      "20     2013-11-25 07:06:11  34268.00  successful      ...            US   \n",
      "21     2017-08-08 01:20:20      1.00      failed      ...            AU   \n",
      "22     2014-05-16 10:10:38    650.00      failed      ...            US   \n",
      "23     2015-01-26 19:17:33     48.00      failed      ...            NO   \n",
      "24     2014-10-23 17:15:50    701.66  successful      ...            US   \n",
      "25     2010-12-07 23:16:50  15827.00  successful      ...            US   \n",
      "26     2015-12-06 20:09:06      0.00      failed      ...            GB   \n",
      "27     2014-11-14 18:02:00  48905.00  successful      ...            CA   \n",
      "28     2015-12-29 16:59:29    112.38  successful      ...            GB   \n",
      "29     2017-04-03 17:11:33  57577.31  successful      ...            US   \n",
      "...                    ...       ...         ...      ...           ...   \n",
      "378631 2014-09-03 19:53:50  13861.50  successful      ...            US   \n",
      "378632 2014-05-06 23:50:34      0.00      failed      ...            US   \n",
      "378633 2014-11-13 17:16:17  11643.00      failed      ...            US   \n",
      "378634 2010-11-08 02:43:59   3531.00      failed      ...            US   \n",
      "378635 2015-08-25 22:37:14     70.00      failed      ...            US   \n",
      "378636 2014-11-17 17:50:12   5435.00  successful      ...            CA   \n",
      "378637 2017-08-29 06:57:28  10245.00  successful      ...            US   \n",
      "378638 2014-07-15 02:10:39     18.00      failed      ...            US   \n",
      "378639 2015-11-03 13:04:14   5579.00  successful      ...            US   \n",
      "378640 2014-08-08 21:49:31    100.00    canceled      ...            US   \n",
      "378641 2015-07-06 18:00:47      0.00      failed      ...            CH   \n",
      "378642 2017-10-04 11:26:44   1246.00  successful      ...            FR   \n",
      "378643 2014-05-05 20:22:45      0.00    canceled      ...            US   \n",
      "378644 2015-11-23 07:33:14   6169.00  successful      ...            US   \n",
      "378645 2013-09-10 22:45:26   2738.00      failed      ...            GB   \n",
      "378646 2013-10-18 21:35:04   1732.02  successful      ...            US   \n",
      "378647 2012-08-15 17:11:00    980.00      failed      ...            US   \n",
      "378648 2016-01-24 16:03:27    121.00    canceled      ...            US   \n",
      "378649 2017-02-08 02:28:44    135.00      failed      ...            US   \n",
      "378650 2016-07-29 15:36:29      0.00      failed      ...            US   \n",
      "378651 2014-02-20 01:00:16   5501.00  successful      ...            CA   \n",
      "378652 2015-03-29 21:30:33  21500.00  successful      ...            NO   \n",
      "378653 2012-02-15 04:31:10     25.00      failed      ...            US   \n",
      "378654 2017-03-20 22:08:22    154.00      failed      ...            US   \n",
      "378655 2014-08-06 03:46:07      0.00    canceled      ...            CA   \n",
      "378656 2014-09-17 02:35:30     25.00    canceled      ...            US   \n",
      "378657 2011-06-22 03:35:14    155.00      failed      ...            US   \n",
      "378658 2010-07-01 19:40:30     20.00      failed      ...            US   \n",
      "378659 2016-01-13 18:13:53    200.00      failed      ...            US   \n",
      "378660 2011-07-19 09:07:47    524.00      failed      ...            US   \n",
      "\n",
      "       usd pledged  usd_pledged_real  usd_goal_real  laun_month_year  \\\n",
      "0             0.00              0.00        1533.95          2015-08   \n",
      "1           100.00           2421.00       30000.00          2017-09   \n",
      "2           220.00            220.00       45000.00          2013-01   \n",
      "3             1.00              1.00        5000.00          2012-03   \n",
      "4          1283.00           1283.00       19500.00          2015-07   \n",
      "5         52375.00          52375.00       50000.00          2016-02   \n",
      "6          1205.00           1205.00        1000.00          2014-12   \n",
      "7           453.00            453.00       25000.00          2016-02   \n",
      "8          8233.00           8233.00      125000.00          2014-04   \n",
      "9          6240.57           6240.57       65000.00          2014-07   \n",
      "10            0.00              0.00        2406.39          2013-09   \n",
      "11        12700.00          12700.00       12500.00          2013-03   \n",
      "12            0.00              0.00        5000.00          2014-09   \n",
      "13            0.00              0.00      200000.00          2016-02   \n",
      "14        57763.78         121857.33        6469.73          2017-04   \n",
      "15          664.00            664.00        2500.00          2015-01   \n",
      "16          395.00            395.00        1500.00          2014-10   \n",
      "17          789.00            789.00        3000.00          2015-04   \n",
      "18          250.00            250.00         250.00          2012-08   \n",
      "19         1781.00           1781.00        5000.00          2012-05   \n",
      "20        34268.00          34268.00       20000.00          2013-11   \n",
      "21            0.00              0.81        2026.10          2017-08   \n",
      "22          650.00            650.00        3500.00          2014-05   \n",
      "23            6.18              6.29          65.55          2015-01   \n",
      "24          701.66            701.66         175.00          2014-10   \n",
      "25        15827.00          15827.00       10000.00          2010-12   \n",
      "26            0.00              0.00       17489.65          2015-12   \n",
      "27        43203.25          42174.03       15313.04          2014-11   \n",
      "28          167.70            160.60         142.91          2015-12   \n",
      "29        10120.00          57577.31       50000.00          2017-04   \n",
      "...            ...               ...            ...              ...   \n",
      "378631    13861.50          13861.50       10000.00          2014-09   \n",
      "378632        0.00              0.00       12000.00          2014-05   \n",
      "378633    11643.00          11643.00       25000.00          2014-11   \n",
      "378634     3531.00           3531.00        4000.00          2010-11   \n",
      "378635       70.00             70.00         800.00          2015-08   \n",
      "378636     4814.88           4686.96        4311.83          2014-11   \n",
      "378637      145.00          10245.00       10000.00          2017-08   \n",
      "378638       18.00             18.00        5000.00          2014-07   \n",
      "378639     5579.00           5579.00        5000.00          2015-11   \n",
      "378640      100.00            100.00        1000.00          2014-08   \n",
      "378641        0.00              0.00       82207.27          2015-07   \n",
      "378642       66.72           1452.47        1165.70          2017-10   \n",
      "378643        0.00              0.00        6500.00          2014-05   \n",
      "378644     6169.00           6169.00        3500.00          2015-11   \n",
      "378645     4281.15           4374.99       25566.05          2013-09   \n",
      "378646     1732.02           1732.02         950.00          2013-10   \n",
      "378647      980.00            980.00        4999.00          2012-08   \n",
      "378648      121.00            121.00         500.00          2016-01   \n",
      "378649       45.00            135.00         500.00          2017-02   \n",
      "378650        0.00              0.00        6000.00          2016-07   \n",
      "378651     5019.92           4983.69        4529.81          2014-02   \n",
      "378652     2698.97           2875.83        2675.19          2015-03   \n",
      "378653       25.00             25.00        1700.00          2012-02   \n",
      "378654        0.00            154.00        6500.00          2017-03   \n",
      "378655        0.00              0.00        4949.60          2014-08   \n",
      "378656       25.00             25.00       50000.00          2014-09   \n",
      "378657      155.00            155.00        1500.00          2011-06   \n",
      "378658       20.00             20.00       15000.00          2010-07   \n",
      "378659      200.00            200.00       15000.00          2016-01   \n",
      "378660      524.00            524.00        2000.00          2011-07   \n",
      "\n",
      "       laun_year laun_hour  dead_month_year dead_year time_campaign  \n",
      "0           2015        12          2015-10      2015             2  \n",
      "1           2017         4          2017-11      2017             2  \n",
      "2           2013         0          2013-02      2013             1  \n",
      "3           2012         3          2012-04      2012             1  \n",
      "4           2015         8          2015-08      2015             1  \n",
      "5           2016        13          2016-04      2016             2  \n",
      "6           2014        18          2014-12      2014             0  \n",
      "7           2016        20          2016-03      2016             1  \n",
      "8           2014        18          2014-05      2014             1  \n",
      "9           2014        21          2014-08      2014             1  \n",
      "10          2013        18          2013-10      2013             1  \n",
      "11          2013         6          2013-04      2013             1  \n",
      "12          2014        17          2014-10      2014             1  \n",
      "13          2016        23          2016-03      2016             1  \n",
      "14          2017        19          2017-05      2017             1  \n",
      "15          2015         2          2015-02      2015             1  \n",
      "16          2014        22          2014-11      2014             1  \n",
      "17          2015        21          2015-05      2015             1  \n",
      "18          2012        14          2012-08      2012             0  \n",
      "19          2012        17          2012-06      2012             1  \n",
      "20          2013         7          2013-12      2013             1  \n",
      "21          2017         1          2017-09      2017             1  \n",
      "22          2014        10          2014-06      2014             1  \n",
      "23          2015        19          2015-02      2015             1  \n",
      "24          2014        17          2014-11      2014             1  \n",
      "25          2010        23          2011-01      2010             1  \n",
      "26          2015        20          2016-01      2015             1  \n",
      "27          2014        18          2014-12      2014             1  \n",
      "28          2015        16          2016-01      2015             1  \n",
      "29          2017        17          2017-05      2017             1  \n",
      "...          ...       ...              ...       ...           ...  \n",
      "378631      2014        19          2014-10      2014             1  \n",
      "378632      2014        23          2014-06      2014             1  \n",
      "378633      2014        17          2014-12      2014             1  \n",
      "378634      2010         2          2011-01      2010             2  \n",
      "378635      2015        22          2015-09      2015             1  \n",
      "378636      2014        17          2014-12      2014             1  \n",
      "378637      2017         6          2017-10      2017             2  \n",
      "378638      2014         2          2014-08      2014             1  \n",
      "378639      2015        13          2015-12      2015             1  \n",
      "378640      2014        21          2014-09      2014             1  \n",
      "378641      2015        18          2015-09      2015             2  \n",
      "378642      2017        11          2017-10      2017             0  \n",
      "378643      2014        20          2014-05      2014             0  \n",
      "378644      2015         7          2015-12      2015             1  \n",
      "378645      2013        22          2013-10      2013             1  \n",
      "378646      2013        21          2013-11      2013             1  \n",
      "378647      2012        17          2012-09      2012             1  \n",
      "378648      2016        16          2016-02      2016             1  \n",
      "378649      2017         2          2017-04      2017             2  \n",
      "378650      2016        15          2016-09      2016             2  \n",
      "378651      2014         1          2014-03      2014             1  \n",
      "378652      2015        21          2015-04      2015             1  \n",
      "378653      2012         4          2012-03      2012             1  \n",
      "378654      2017        22          2017-04      2017             1  \n",
      "378655      2014         3          2014-09      2014             1  \n",
      "378656      2014         2          2014-10      2014             1  \n",
      "378657      2011         3          2011-07      2011             1  \n",
      "378658      2010        19          2010-08      2010             1  \n",
      "378659      2016        18          2016-02      2016             1  \n",
      "378660      2011         9          2011-08      2011             1  \n",
      "\n",
      "[378661 rows x 21 columns]\n"
     ]
    }
   ],
   "source": [
    "print(\"Missing values per column:\")\n",
    "print(df_kick.apply(num_missing, axis=0))\n",
    "print(df_kick)"
   ]
  },
  {
   "cell_type": "code",
   "execution_count": 87,
   "metadata": {},
   "outputs": [
    {
     "name": "stdout",
     "output_type": "stream",
     "text": [
      "ID                     0\n",
      "name                   4\n",
      "category               0\n",
      "main_category          0\n",
      "currency               0\n",
      "deadline               0\n",
      "goal                   0\n",
      "launched               0\n",
      "pledged                0\n",
      "state                  0\n",
      "backers                0\n",
      "country                0\n",
      "usd pledged         3797\n",
      "usd_pledged_real       0\n",
      "usd_goal_real          0\n",
      "laun_month_year        0\n",
      "laun_year              0\n",
      "laun_hour              0\n",
      "dead_month_year        0\n",
      "dead_year              0\n",
      "time_campaign          0\n",
      "dtype: int64\n"
     ]
    },
    {
     "ename": "TypeError",
     "evalue": "'numpy.ndarray' object is not callable",
     "output_type": "error",
     "traceback": [
      "\u001b[1;31m---------------------------------------------------------------------------\u001b[0m",
      "\u001b[1;31mTypeError\u001b[0m                                 Traceback (most recent call last)",
      "\u001b[1;32m<ipython-input-87-f9f80c82a882>\u001b[0m in \u001b[0;36m<module>\u001b[1;34m()\u001b[0m\n\u001b[0;32m      1\u001b[0m \u001b[0mprint\u001b[0m\u001b[1;33m(\u001b[0m\u001b[0mdf_kick\u001b[0m\u001b[1;33m.\u001b[0m\u001b[0mapply\u001b[0m\u001b[1;33m(\u001b[0m\u001b[0mnum_missing\u001b[0m\u001b[1;33m,\u001b[0m \u001b[0maxis\u001b[0m\u001b[1;33m=\u001b[0m\u001b[1;36m0\u001b[0m\u001b[1;33m)\u001b[0m\u001b[1;33m)\u001b[0m\u001b[1;33m\u001b[0m\u001b[0m\n\u001b[1;32m----> 2\u001b[1;33m \u001b[0mprint\u001b[0m\u001b[1;33m(\u001b[0m\u001b[0mdf_kick\u001b[0m\u001b[1;33m.\u001b[0m\u001b[0mvalues\u001b[0m\u001b[1;33m(\u001b[0m\u001b[1;33m)\u001b[0m\u001b[1;33m)\u001b[0m\u001b[1;33m\u001b[0m\u001b[0m\n\u001b[0m",
      "\u001b[1;31mTypeError\u001b[0m: 'numpy.ndarray' object is not callable"
     ]
    }
   ],
   "source": [
    "print(df_kick.apply(num_missing, axis=0))\n",
    "print(df_kick.values())"
   ]
  },
  {
   "cell_type": "code",
   "execution_count": null,
   "metadata": {},
   "outputs": [],
   "source": [
    "df_kick['state'].value_counts()\n",
    "\n",
    "df_kick.sort_values(by='goal', ascending=False)[:10]"
   ]
  },
  {
   "cell_type": "code",
   "execution_count": 73,
   "metadata": {},
   "outputs": [
    {
     "data": {
      "text/plain": [
       "failed        197719\n",
       "successful    133956\n",
       "canceled       38779\n",
       "undefined       3562\n",
       "live            2799\n",
       "suspended       1846\n",
       "Name: state, dtype: int64"
      ]
     },
     "execution_count": 73,
     "metadata": {},
     "output_type": "execute_result"
    }
   ],
   "source": [
    "df_kick['state'].value_counts()"
   ]
  },
  {
   "cell_type": "code",
   "execution_count": 74,
   "metadata": {
    "collapsed": true
   },
   "outputs": [],
   "source": [
    "sensor= df_kick.loc[:,['pledged','backers','usd pledged','usd_pledged_real']]"
   ]
  },
  {
   "cell_type": "code",
   "execution_count": 75,
   "metadata": {},
   "outputs": [
    {
     "name": "stdout",
     "output_type": "stream",
     "text": [
      "         pledged  backers  usd pledged  usd_pledged_real\n",
      "0           0.00        0         0.00              0.00\n",
      "1        2421.00       15       100.00           2421.00\n",
      "2         220.00        3       220.00            220.00\n",
      "3           1.00        1         1.00              1.00\n",
      "4        1283.00       14      1283.00           1283.00\n",
      "5       52375.00      224     52375.00          52375.00\n",
      "6        1205.00       16      1205.00           1205.00\n",
      "7         453.00       40       453.00            453.00\n",
      "8        8233.00       58      8233.00           8233.00\n",
      "9        6240.57       43      6240.57           6240.57\n",
      "10          0.00        0         0.00              0.00\n",
      "11      12700.00      100     12700.00          12700.00\n",
      "12          0.00        0         0.00              0.00\n",
      "13          0.00        0         0.00              0.00\n",
      "14      94175.00      761     57763.78         121857.33\n",
      "15        664.00       11       664.00            664.00\n",
      "16        395.00       16       395.00            395.00\n",
      "17        789.00       20       789.00            789.00\n",
      "18        250.00        7       250.00            250.00\n",
      "19       1781.00       40      1781.00           1781.00\n",
      "20      34268.00      624     34268.00          34268.00\n",
      "21          1.00        1         0.00              0.81\n",
      "22        650.00       12       650.00            650.00\n",
      "23         48.00        3         6.18              6.29\n",
      "24        701.66       66       701.66            701.66\n",
      "25      15827.00      147     15827.00          15827.00\n",
      "26          0.00        0         0.00              0.00\n",
      "27      48905.00      571     43203.25          42174.03\n",
      "28        112.38       27       167.70            160.60\n",
      "29      57577.31      840     10120.00          57577.31\n",
      "...          ...      ...          ...               ...\n",
      "378631  13861.50      413     13861.50          13861.50\n",
      "378632      0.00        0         0.00              0.00\n",
      "378633  11643.00       97     11643.00          11643.00\n",
      "378634   3531.00       37      3531.00           3531.00\n",
      "378635     70.00        5        70.00             70.00\n",
      "378636   5435.00       78      4814.88           4686.96\n",
      "378637  10245.00      123       145.00          10245.00\n",
      "378638     18.00        5        18.00             18.00\n",
      "378639   5579.00      103      5579.00           5579.00\n",
      "378640    100.00        2       100.00            100.00\n",
      "378641      0.00        0         0.00              0.00\n",
      "378642   1246.00       35        66.72           1452.47\n",
      "378643      0.00        0         0.00              0.00\n",
      "378644   6169.00      120      6169.00           6169.00\n",
      "378645   2738.00       38      4281.15           4374.99\n",
      "378646   1732.02       31      1732.02           1732.02\n",
      "378647    980.00       16       980.00            980.00\n",
      "378648    121.00        5       121.00            121.00\n",
      "378649    135.00        6        45.00            135.00\n",
      "378650      0.00        0         0.00              0.00\n",
      "378651   5501.00       78      5019.92           4983.69\n",
      "378652  21500.00       36      2698.97           2875.83\n",
      "378653     25.00        1        25.00             25.00\n",
      "378654    154.00        4         0.00            154.00\n",
      "378655      0.00        0         0.00              0.00\n",
      "378656     25.00        1        25.00             25.00\n",
      "378657    155.00        5       155.00            155.00\n",
      "378658     20.00        1        20.00             20.00\n",
      "378659    200.00        6       200.00            200.00\n",
      "378660    524.00       17       524.00            524.00\n",
      "\n",
      "[378661 rows x 4 columns]\n"
     ]
    }
   ],
   "source": [
    "print(sensor)"
   ]
  },
  {
   "cell_type": "code",
   "execution_count": null,
   "metadata": {
    "collapsed": true
   },
   "outputs": [],
   "source": [
    "avg_row= np.mean(sensor,0)"
   ]
  },
  {
   "cell_type": "code",
   "execution_count": null,
   "metadata": {},
   "outputs": [],
   "source": [
    "sensor.mean(axis=0)"
   ]
  },
  {
   "cell_type": "code",
   "execution_count": 76,
   "metadata": {
    "collapsed": true
   },
   "outputs": [],
   "source": [
    "df_kick['launched'] = pd.to_datetime(df_kick['launched'])\n",
    "df_kick['laun_month_year'] = df_kick['launched'].dt.to_period(\"M\")\n",
    "df_kick['laun_year'] = df_kick['launched'].dt.to_period(\"A\")\n",
    "df_kick['laun_hour'] = df_kick['launched'].dt.hour\n",
    "\n",
    "df_kick['deadline'] = pd.to_datetime(df_kick['deadline'])\n",
    "df_kick['dead_month_year'] = df_kick['deadline'].dt.to_period(\"M\")\n",
    "df_kick['dead_year'] = df_kick['launched'].dt.to_period(\"A\")"
   ]
  },
  {
   "cell_type": "code",
   "execution_count": 77,
   "metadata": {},
   "outputs": [],
   "source": [
    "#Creating a new columns with Campaign total months\n",
    "df_kick['time_campaign'] = df_kick['dead_month_year'] - df_kick['laun_month_year']\n",
    "df_kick['time_campaign'] = df_kick['time_campaign'].astype(int)"
   ]
  },
  {
   "cell_type": "code",
   "execution_count": 78,
   "metadata": {},
   "outputs": [
    {
     "data": {
      "image/png": "[encoded data removed]",
      "text/plain": [
       "<matplotlib.figure.Figure at 0x17128f72c18>"
      ]
     },
     "metadata": {},
     "output_type": "display_data"
    },
    {
     "name": "stdout",
     "output_type": "stream",
     "text": [
      "Descriptions of Campaign Time x State\n",
      "state          canceled  failed  live  successful  suspended  undefined\n",
      "time_campaign                                                          \n",
      "0.0                2044   12276    62       12494        153        280\n",
      "1.0               28144  144494  1785      102102       1251       2710\n",
      "2.0                8132   38960   948       18240        433        570\n",
      "3.0                 453    1976     4        1117          8          2\n",
      "4.0                   0      13     0           3          0          0\n"
     ]
    }
   ],
   "source": [
    "plt.figure(figsize = (10,6))\n",
    "\n",
    "ax = sns.countplot(x='time_campaign', hue='state', \n",
    "                   data=df_kick[df_kick['time_campaign'] < 10])\n",
    "ax.set_title(\"Distribuition of Campaign Time by State\", fontsize=30)\n",
    "ax.set_xlabel(\"Campaign Total Months\", fontsize=20)\n",
    "ax.set_ylabel(\"Count\", fontsize=20)\n",
    "plt.show()\n",
    "\n",
    "print(\"Descriptions of Campaign Time x State\")\n",
    "print(pd.crosstab(df_kick[df_kick['time_campaign'] < 5]['time_campaign'], df_kick.state))"
   ]
  },
  {
   "cell_type": "code",
   "execution_count": null,
   "metadata": {},
   "outputs": [],
   "source": []
  },
  {
   "cell_type": "code",
   "execution_count": null,
   "metadata": {},
   "outputs": [],
   "source": []
  },
  {
   "cell_type": "code",
   "execution_count": null,
   "metadata": {},
   "outputs": [],
   "source": []
  },
  {
   "cell_type": "code",
   "execution_count": null,
   "metadata": {
    "collapsed": true
   },
   "outputs": [],
   "source": []
  }
 ],
 "metadata": {
  "kernelspec": {
   "display_name": "Python 3",
   "language": "python",
   "name": "python3"
  },
  "language_info": {
   "codemirror_mode": {
    "name": "ipython",
    "version": 3
   },
   "file_extension": ".py",
   "mimetype": "text/x-python",
   "name": "python",
   "nbconvert_exporter": "python",
   "pygments_lexer": "ipython3",
   "version": "3.5.3"
  }
 },
 "nbformat": 4,
 "nbformat_minor": 2
}
